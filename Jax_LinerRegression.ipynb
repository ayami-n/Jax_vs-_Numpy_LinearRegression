{
  "nbformat": 4,
  "nbformat_minor": 0,
  "metadata": {
    "colab": {
      "provenance": [],
      "authorship_tag": "ABX9TyPPDgJutpvSoybz8UIw3AaN",
      "include_colab_link": true
    },
    "kernelspec": {
      "name": "python3",
      "display_name": "Python 3"
    },
    "language_info": {
      "name": "python"
    },
    "accelerator": "GPU"
  },
  "cells": [
    {
      "cell_type": "markdown",
      "metadata": {
        "id": "view-in-github",
        "colab_type": "text"
      },
      "source": [
        "<a href=\"https://colab.research.google.com/github/ayami-n/Jax_vs-_Numpy_LinearRegression/blob/main/Jax_LinerRegression.ipynb\" target=\"_parent\"><img src=\"https://colab.research.google.com/assets/colab-badge.svg\" alt=\"Open In Colab\"/></a>"
      ]
    },
    {
      "cell_type": "markdown",
      "source": [
        "## Import library"
      ],
      "metadata": {
        "id": "OVX1XOXI609r"
      }
    },
    {
      "cell_type": "code",
      "source": [
        "import jax\n",
        "import jax.numpy as jnp\n",
        "import matplotlib.pyplot as plt\n",
        "import numpy as np\n",
        "from numpy import float64\n",
        "from sklearn.linear_model import LinearRegression\n",
        "from sklearn.metrics import mean_squared_error, r2_score\n",
        "from sklearn.preprocessing import StandardScaler"
      ],
      "metadata": {
        "id": "nWGTS3nylXq1"
      },
      "execution_count": 23,
      "outputs": []
    },
    {
      "cell_type": "markdown",
      "source": [
        "##Simple Linear Regression"
      ],
      "metadata": {
        "id": "A3zMTSiP0ggn"
      }
    },
    {
      "cell_type": "markdown",
      "source": [
        "\n",
        "\n",
        "StandardScaler comes into play when the characteristics of the input dataset differ greatly between their ranges\n",
        "\n"
      ],
      "metadata": {
        "id": "oBy_SDiJ6vmC"
      }
    },
    {
      "cell_type": "code",
      "source": [
        "data = pd.read_csv(\"Salary_Data.CSV\")\n",
        "X = data.Salary.values\n",
        "Y = data.YearsExperience.to_list()\n",
        "\n",
        "sc = StandardScaler()\n",
        "X = X.reshape(-1,1)\n",
        "X = sc.fit_transform(X)\n",
        "\n",
        "jX = jnp.array(X)\n",
        "jY = jnp.array(Y)"
      ],
      "metadata": {
        "id": "vmNt9Axt0gJE"
      },
      "execution_count": null,
      "outputs": []
    },
    {
      "cell_type": "markdown",
      "source": [
        "Make a dataset x and y (this is Linear float64)"
      ],
      "metadata": {
        "id": "MWWwbqfTcbVy"
      }
    },
    {
      "cell_type": "code",
      "source": [
        "# use a lot of RAM (for JAX)\n",
        "x = np.arange(0, 1, 0.000001, dtype=float64) \n",
        "y = np.arange(1, 2, 0.000001, dtype=float64)"
      ],
      "metadata": {
        "id": "dc6Y3_ijXzL7"
      },
      "execution_count": 16,
      "outputs": []
    },
    {
      "cell_type": "code",
      "source": [
        "# for make Numpy condition\n",
        "nx = np.arange(0, 1, 0.0001, dtype=float64)\n",
        "ny = np.arange(1, 2, 0.0001, dtype=float64)"
      ],
      "metadata": {
        "id": "_x8ACo0j4fm-"
      },
      "execution_count": 3,
      "outputs": []
    },
    {
      "cell_type": "markdown",
      "source": [
        " Convert numpy dataset to jax numpy "
      ],
      "metadata": {
        "id": "6AF55rDXf5Sp"
      }
    },
    {
      "cell_type": "code",
      "source": [
        "with jax.experimental.enable_x64():\n",
        "  \n",
        "  jx = jnp.array(x).astype(float64)\n",
        "  jy = jnp.array(y).astype(float64)\n",
        "  \n",
        "  jnx = jnp.array(nx).astype(float64)\n",
        "  jny = jnp.array(ny).astype(float64)"
      ],
      "metadata": {
        "id": "_RSJFZ-Ddkrn"
      },
      "execution_count": 3,
      "outputs": []
    },
    {
      "cell_type": "markdown",
      "source": [
        "\n",
        "\n",
        "\n",
        "*   np.float64-- It means that each value in the numpy array would be a float of size 64\n",
        "*   0.000001 is use inspace(step)\n",
        "\n"
      ],
      "metadata": {
        "id": "54zViCqSbYJt"
      }
    },
    {
      "cell_type": "markdown",
      "source": [
        "Generate the data. Calculate xmean, ymean, Sxx, Sxy to find the value of slope and intercept of regression line."
      ],
      "metadata": {
        "id": "oN9Qf8c348GT"
      }
    },
    {
      "cell_type": "code",
      "source": [
        "@jax.jit\n",
        "def calculate(x,y):\n",
        "  x_mean = x.mean()\n",
        "  y_mean = y.mean()\n",
        "  n = jnp.size(x)\n",
        "  sxy = (x - x_mean)*(y - y_mean)\n",
        "  sxx = (x - x_mean)**2\n",
        "  syy = (y - y_mean)**2\n",
        "  sxy_sum = jnp.sum(sxy)\n",
        "  sxx_sum = jnp.sum(sxx)\n",
        "  syy_sum = jnp.sum(syy)\n",
        "  slope = sxy_sum/sxx_sum\n",
        "  intercept = y_mean - slope* x_mean\n",
        "  y_pred = slope * x + intercept\n",
        "  error = y- y_pred\n",
        "  squared_error = error**2\n",
        "  squared_error_sum = jnp.sum(squared_error)\n",
        "  return n, syy_sum, y_pred, squared_error_sum"
      ],
      "metadata": {
        "id": "_KMovDhkH0Ug"
      },
      "execution_count": 18,
      "outputs": []
    },
    {
      "cell_type": "code",
      "source": [
        "n, syy_sum, y_pred, squared_error_sum = calculate(x,y)"
      ],
      "metadata": {
        "colab": {
          "base_uri": "https://localhost:8080/"
        },
        "id": "D0D41Gc5ILy_",
        "outputId": "d12147fc-17fa-43aa-9348-7bc19a5772c0"
      },
      "execution_count": 5,
      "outputs": [
        {
          "output_type": "stream",
          "name": "stdout",
          "text": [
            "slope = 1.0\n",
            "syy_sum = 83333.33\n",
            "intercept = 1.0000002\n",
            "y_pred = [1.0000002 1.0000012 1.0000023 ... 1.9999973 1.9999982 1.9999993]\n",
            "squared_error = [5.684342e-14 5.684342e-14 5.684342e-14 ... 5.684342e-14 5.684342e-14\n",
            " 5.684342e-14]\n",
            "squared_error_sum = 5.923137e-08\n"
          ]
        }
      ]
    },
    {
      "cell_type": "markdown",
      "source": [
        "Analyze the performance of the model by calculating mean squared error and R2"
      ],
      "metadata": {
        "id": "40lfeQn84mMg"
      }
    },
    {
      "cell_type": "code",
      "source": [
        "mse = squared_error_sum / n\n",
        "rmse = jnp.sqrt(mse)\n",
        "R2 = 1-(squared_error_sum / syy_sum)"
      ],
      "metadata": {
        "id": "vLe4qI_22d5P"
      },
      "execution_count": 6,
      "outputs": []
    },
    {
      "cell_type": "markdown",
      "source": [
        " Use scikit library to confirm the above steps."
      ],
      "metadata": {
        "id": "X3-hr92iXkDy"
      }
    },
    {
      "cell_type": "code",
      "source": [
        "x = x.reshape(-1,1)\n",
        "regression_model = LinearRegression()\n",
        "  \n",
        "# Fit the data(train the model)\n",
        "regression_model.fit(x, y)\n",
        "  \n",
        "# Predict\n",
        "y_predicted = regression_model.predict(x)\n",
        "  \n",
        "# model evaluation\n",
        "mse=mean_squared_error(y,y_predicted)\n",
        "  \n",
        "rmse = np.sqrt(mean_squared_error(y, y_predicted))\n",
        "r2 = r2_score(y, y_predicted)\n",
        "  \n",
        "# printing values\n",
        "print('Slope:' ,regression_model.coef_)\n",
        "print('Intercept:', regression_model.intercept_)\n",
        "print('MSE:',mse)\n",
        "print('Root mean squared error: ', rmse)\n",
        "print('R2 score: ', r2)"
      ],
      "metadata": {
        "colab": {
          "base_uri": "https://localhost:8080/"
        },
        "id": "c74cWnjVfKLR",
        "outputId": "5e09649e-ff41-4225-d544-ff597a6fc410"
      },
      "execution_count": 24,
      "outputs": [
        {
          "output_type": "stream",
          "name": "stdout",
          "text": [
            "Slope: [1.]\n",
            "Intercept: 1.0000000000000007\n",
            "MSE: 1.110622674533916e-30\n",
            "Root mean squared error:  1.0538608421105303e-15\n",
            "R2 score:  1.0\n"
          ]
        }
      ]
    },
    {
      "cell_type": "markdown",
      "source": [
        "##Plot Linear regression\n",
        "\n",
        "\n",
        "\n"
      ],
      "metadata": {
        "id": "v6vUXRN3HcD-"
      }
    },
    {
      "cell_type": "code",
      "source": [
        "n_size = np.size(x1)\n",
        "  \n",
        "x1_mean = np.mean(x1)\n",
        "y1_mean = np.mean(y1)\n",
        "\n",
        "Sxy = np.sum(x1*y1)-n_size*x1_mean*y1_mean\n",
        "Sxx = np.sum(x1*x1)-n_size*x1_mean*x1_mean\n",
        "  \n",
        "b1 = Sxy/Sxx\n",
        "b0 = y1_mean-b1*x1_mean\n",
        "print('slope b1 is', b1)\n",
        "print('intercept b0 is', b0)\n",
        "  \n",
        "plt.scatter(x1,y1)\n",
        "plt.xlabel('Independent variable X')\n",
        "plt.ylabel('Dependent variable y')\n",
        "\n",
        "y1_pred = b1 * x1 + b0\n",
        "  \n",
        "plt.scatter(x1, y1, color = 'red')\n",
        "plt.plot(x1, y1_pred, color = 'green')\n",
        "plt.xlabel('X')\n",
        "plt.ylabel('y')"
      ],
      "metadata": {
        "colab": {
          "base_uri": "https://localhost:8080/",
          "height": 331
        },
        "id": "31RRxCPQHPd1",
        "outputId": "ddd67eb4-adfc-4844-a460-e00f71a1c7bd"
      },
      "execution_count": 33,
      "outputs": [
        {
          "output_type": "stream",
          "name": "stdout",
          "text": [
            "slope b1 is 2.8\n",
            "intercept b0 is 6.200000000000001\n"
          ]
        },
        {
          "output_type": "execute_result",
          "data": {
            "text/plain": [
              "Text(0, 0.5, 'y')"
            ]
          },
          "metadata": {},
          "execution_count": 33
        },
        {
          "output_type": "display_data",
          "data": {
            "text/plain": [
              "<Figure size 432x288 with 1 Axes>"
            ],
            "image/png": "[encoded data removed]"
          },
          "metadata": {
            "needs_background": "light"
          }
        }
      ]
    },
    {
      "cell_type": "markdown",
      "source": [
        "##Comparing Numpy and JAX times"
      ],
      "metadata": {
        "id": "r90xNIbm1ZCX"
      }
    },
    {
      "cell_type": "code",
      "source": [
        "# this is Salary and Year\n",
        "%timeit LinearRegression().fit(X,Y)\n",
        "%timeit calculate(jX,jY)"
      ],
      "metadata": {
        "id": "1LA1zxUh3mnp"
      },
      "execution_count": null,
      "outputs": []
    },
    {
      "cell_type": "code",
      "source": [
        "# this is Numpy use 0.0001\n",
        "%timeit LinearRegression().fit([nx],[ny]) \n",
        "%timeit calculate(jnx,jny)"
      ],
      "metadata": {
        "colab": {
          "base_uri": "https://localhost:8080/"
        },
        "id": "Q2vZNDyJ18iH",
        "outputId": "69f9e5ff-7ca8-4fe4-a9fe-00a31b4ecb8e"
      },
      "execution_count": 4,
      "outputs": [
        {
          "output_type": "stream",
          "name": "stdout",
          "text": [
            "3.29 s ± 8.93 ms per loop (mean ± std. dev. of 7 runs, 1 loop each)\n"
          ]
        }
      ]
    },
    {
      "cell_type": "code",
      "source": [
        "# this is JAX version use 0.000001\n",
        "%timeit calculate(jx,jy) \n",
        "# %timeit LinearRegression().fit([x],[y]) No results"
      ],
      "metadata": {
        "colab": {
          "base_uri": "https://localhost:8080/"
        },
        "id": "BJ4cceuiedu4",
        "outputId": "6f3e1e95-aaed-4379-930d-4ff0532eeb01"
      },
      "execution_count": 8,
      "outputs": [
        {
          "output_type": "stream",
          "name": "stdout",
          "text": [
            "107 µs ± 37.2 µs per loop (mean ± std. dev. of 7 runs, 1 loop each)\n"
          ]
        }
      ]
    },
    {
      "cell_type": "code",
      "source": [
        "# Numpy\n",
        "x1 = np.array([1,2,3,4,5])\n",
        "y1 = np.array([7,14,15,18,19])\n",
        "%timeit LinearRegression().fit([x1], [y1])"
      ],
      "metadata": {
        "colab": {
          "base_uri": "https://localhost:8080/"
        },
        "id": "1RR_F5eHYLhJ",
        "outputId": "d8c47796-300b-40ef-88dc-d15b76f626ba"
      },
      "execution_count": 32,
      "outputs": [
        {
          "output_type": "stream",
          "name": "stdout",
          "text": [
            "225 µs ± 7.03 µs per loop (mean ± std. dev. of 7 runs, 1000 loops each)\n"
          ]
        }
      ]
    },
    {
      "cell_type": "code",
      "source": [
        "# JAX\n",
        "jx1 = jnp.array([1,2,3,4,5]).astype(float)\n",
        "jy1 = jnp.array([7,14,15,18,19]).astype(float)\n",
        "%timeit calculate(jx1,jy1)"
      ],
      "metadata": {
        "colab": {
          "base_uri": "https://localhost:8080/"
        },
        "id": "6QLPSTvLdmrG",
        "outputId": "2bb3333f-5505-4c1c-8cce-640cfec008c4"
      },
      "execution_count": 26,
      "outputs": [
        {
          "output_type": "stream",
          "name": "stdout",
          "text": [
            "81.1 µs ± 2.02 µs per loop (mean ± std. dev. of 7 runs, 10000 loops each)\n"
          ]
        }
      ]
    },
    {
      "cell_type": "markdown",
      "source": [
        "#Summary\n",
        "Jax Numpy proved that they are capable of finishing their calculation time quicker than Numpy. First, Linear-regression models are relatively simple and provide an easy-to-interpret mathematical formula that can generate predictions. so I use it. Usually, when I use a small number dataset Numpy is better However, when I use many steps (float 64) Jax Numpy is faster. For example, Numpy could not handle those code x = np.arange(0, 1, 0.000001, dtype=float64) because it use a lot of RAM and JAX has JIT (Just In Time compilation).  This allows it to compile our Python functions into a super fast XLA-optimized executables.\n"
      ],
      "metadata": {
        "id": "plU_dWe0fXJo"
      }
    }
  ]
}